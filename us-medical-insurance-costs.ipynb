{
 "cells": [
  {
   "cell_type": "markdown",
   "metadata": {},
   "source": [
    "# U.S. Medical Insurance Costs"
   ]
  },
  {
   "cell_type": "code",
   "execution_count": 4,
   "metadata": {},
   "outputs": [],
   "source": [
    "import csv\n",
    "import numpy as np\n",
    "import pandas as pd\n"
   ]
  },
  {
   "cell_type": "markdown",
   "metadata": {},
   "source": [
    "# Importing the data\n",
    "\n",
    "Using pandas to read the .csv file and create a dataframe to work with "
   ]
  },
  {
   "cell_type": "code",
   "execution_count": 5,
   "metadata": {},
   "outputs": [],
   "source": [
    "ins_data = pd.read_csv('insurance.csv')\n"
   ]
  },
  {
   "cell_type": "markdown",
   "metadata": {},
   "source": [
    "# Separating the Data by region\n",
    "\n",
    "Taking the master DataFrame and creating 4 new Data Frames organized by region \n"
   ]
  },
  {
   "cell_type": "code",
   "execution_count": 6,
   "metadata": {},
   "outputs": [
    {
     "name": "stdout",
     "output_type": "stream",
     "text": [
      "Percentage from Southeast: 27.2%\n",
      "Percentage from Northeast: 24.22%\n",
      "Percentage from Northwest: 24.29%\n",
      "Percentage from Southwest: 24.29%\n"
     ]
    }
   ],
   "source": [
    "se_data=ins_data[ins_data['region']=='southeast']\n",
    "ne_data=ins_data[ins_data['region']=='northeast']\n",
    "nw_data=ins_data[ins_data['region']=='northwest']\n",
    "sw_data=ins_data[ins_data['region']=='southwest']\n",
    "\n",
    "se_percentage=len(se_data)/len(ins_data)*100\n",
    "ne_percentage=len(ne_data)/len(ins_data)*100\n",
    "nw_percentage=len(nw_data)/len(ins_data)*100\n",
    "sw_percentage=len(sw_data)/len(ins_data)*100\n",
    "print(\"Percentage from Southeast: \" +str(round(se_percentage, 2))+\"%\")\n",
    "print(\"Percentage from Northeast: \" +str(round(ne_percentage, 2))+\"%\")\n",
    "print(\"Percentage from Northwest: \" +str(round(nw_percentage, 2))+\"%\")\n",
    "print(\"Percentage from Southwest: \" +str(round(sw_percentage, 2))+\"%\")"
   ]
  },
  {
   "cell_type": "markdown",
   "metadata": {},
   "source": [
    "Data looks to have pretty good distribution among the 4 regions that the \n"
   ]
  },
  {
   "cell_type": "markdown",
   "metadata": {},
   "source": [
    "# Average Insurance Costs by Region\n",
    "\n",
    "Here we will use Pandas to calculate the average of the column \"Costs\" for each reagion to see who had the highest and lowest costs. "
   ]
  },
  {
   "cell_type": "code",
   "execution_count": 7,
   "metadata": {},
   "outputs": [
    {
     "name": "stdout",
     "output_type": "stream",
     "text": [
      "The Average Inusrance Cost for the Southeast is: $14735.41\n",
      "The Average Inusrance Cost for the Northeast is: $13406.38\n",
      "The Average Inusrance Cost for the Northwest is: $12417.58\n",
      "The Average Inusrance Cost for the Southwest is: $12346.94\n"
     ]
    }
   ],
   "source": [
    "se_mean_cost=se_data['charges'].mean()\n",
    "ne_mean_cost=ne_data['charges'].mean()\n",
    "nw_mean_cost=nw_data['charges'].mean()\n",
    "sw_mean_cost=sw_data['charges'].mean()\n",
    "\n",
    "print(\"The Average Inusrance Cost for the Southeast is: $\"+str(round(se_mean_cost, 2)))\n",
    "print(\"The Average Inusrance Cost for the Northeast is: $\"+str(round(ne_mean_cost, 2)))\n",
    "print(\"The Average Inusrance Cost for the Northwest is: $\"+str(round(nw_mean_cost, 2)))\n",
    "print(\"The Average Inusrance Cost for the Southwest is: $\"+str(round(sw_mean_cost, 2)))"
   ]
  },
  {
   "cell_type": "markdown",
   "metadata": {},
   "source": [
    "In our data set the respondants from the Southeast had the highest average insurance costs.  \n",
    "Now let us see what may be driving that cost by looking at 2 of the variables, BMI and Smoking"
   ]
  },
  {
   "cell_type": "markdown",
   "metadata": {},
   "source": [
    "# Percentage of Overweight\n",
    "\n",
    "According to the CDC A BMI of 25 or over is considered overweight In this next code block we will find out how many overweight people are in each region and see if that is a driver for the higher costs in the Southeast\n"
   ]
  },
  {
   "cell_type": "code",
   "execution_count": 15,
   "metadata": {},
   "outputs": [
    {
     "name": "stdout",
     "output_type": "stream",
     "text": [
      "The Percentage of overweight in Southeast: 21.98%\n",
      "The Percentage of overweight in Northeast: 30.25%\n",
      "The Percentage of overweight in Northwest: 32.92%\n",
      "The Percentage of overweight in Southwest: 31.08%\n"
     ]
    }
   ],
   "source": [
    "se_ow=se_data[(se_data['bmi']>=25.0) & (se_data['bmi']<30)]\n",
    "ne_ow=ne_data[(ne_data['bmi']>=25.0) & (ne_data['bmi']<30)]\n",
    "nw_ow=nw_data[(nw_data['bmi']>=25.0) & (nw_data['bmi']<30)]\n",
    "sw_ow=sw_data[(sw_data['bmi']>=25.0) & (sw_data['bmi']<30)]\n",
    "\n",
    "se_ow_percent=len(se_ow)/len(se_data)*100\n",
    "ne_ow_percent=len(ne_ow)/len(ne_data)*100\n",
    "nw_ow_percent=len(nw_ow)/len(nw_data)*100\n",
    "sw_ow_percent=len(sw_ow)/len(sw_data)*100\n",
    "print(\"The Percentage of overweight in Southeast: \" +str(round(se_ow_percent,2))+\"%\")\n",
    "print(\"The Percentage of overweight in Northeast: \" +str(round(ne_ow_percent,2))+\"%\")\n",
    "print(\"The Percentage of overweight in Northwest: \" +str(round(nw_ow_percent,2))+\"%\")\n",
    "print(\"The Percentage of overweight in Southwest: \" +str(round(sw_ow_percent,2))+\"%\")"
   ]
  },
  {
   "cell_type": "markdown",
   "metadata": {},
   "source": [
    "So first we are looking at data for those in the sample who are overweight according to CDC guidelines on BMI and find that we have a rather large spread of people who are overweight but not obese with Northwest reporting just under a third.  \n"
   ]
  },
  {
   "cell_type": "code",
   "execution_count": 57,
   "metadata": {},
   "outputs": [
    {
     "name": "stdout",
     "output_type": "stream",
     "text": [
      "The Percentage of obese in Southeast: 66.76%\n",
      "The Percentage of obese in Northeast: 44.14%\n",
      "The Percentage of obese in Northwest: 45.54%\n",
      "The Percentage of obese in Southwest: 53.23%\n"
     ]
    }
   ],
   "source": [
    "se_ob=se_data[se_data['bmi']>=30.0]\n",
    "ne_ob=ne_data[ne_data['bmi']>=30.0]\n",
    "nw_ob=nw_data[nw_data['bmi']>=30.0]\n",
    "sw_ob=sw_data[sw_data['bmi']>=30.0]\n",
    "\n",
    "se_ob_percent=len(se_ob)/len(se_data)*100\n",
    "ne_ob_percent=len(ne_ob)/len(ne_data)*100\n",
    "nw_ob_percent=len(nw_ob)/len(nw_data)*100\n",
    "sw_ob_percent=len(sw_ob)/len(sw_data)*100\n",
    "\n",
    "\n",
    "print(\"The Percentage of obese in Southeast: \" +str(round(se_ob_percent,2))+\"%\")\n",
    "print(\"The Percentage of obese in Northeast: \" +str(round(ne_ob_percent,2))+\"%\")\n",
    "print(\"The Percentage of obese in Northwest: \" +str(round(nw_ob_percent,2))+\"%\")\n",
    "print(\"The Percentage of obese in Southwest: \" +str(round(sw_ob_percent,2))+\"%\")\n",
    "\n"
   ]
  },
  {
   "cell_type": "markdown",
   "metadata": {},
   "source": [
    "now we calculate the obesity levels and we see that a full 2/3 of the Southeast region are Obese, when added to the 21% who were overweight that is almost 88% who have weight management issues.  The data lacks the ability to see if race or GDP of locale play a role in influencing BMI, more demographic data may be needed.  "
   ]
  },
  {
   "cell_type": "code",
   "execution_count": 58,
   "metadata": {},
   "outputs": [
    {
     "name": "stdout",
     "output_type": "stream",
     "text": [
      "The Average BMI for the Southeast is: 33.36\n",
      "The Average BMI for the Northeast is: 29.17\n",
      "The Average BMI for the Northwest is: 29.2\n",
      "The Average BMI for the Southwest is: 30.6\n"
     ]
    }
   ],
   "source": [
    "se_mean_bmi=se_data['bmi'].mean()\n",
    "ne_mean_bmi=ne_data['bmi'].mean()\n",
    "nw_mean_bmi=nw_data['bmi'].mean()\n",
    "sw_mean_bmi=sw_data['bmi'].mean()\n",
    "\n",
    "print(\"The Average BMI for the Southeast is: \"+str(round(se_mean_bmi,2)))\n",
    "print(\"The Average BMI for the Northeast is: \"+str(round(ne_mean_bmi, 2)))\n",
    "print(\"The Average BMI for the Northwest is: \"+str(round(nw_mean_bmi,2)))\n",
    "print(\"The Average BMI for the Southwest is: \"+str(round(sw_mean_bmi, 2)))"
   ]
  },
  {
   "cell_type": "markdown",
   "metadata": {},
   "source": [
    "Once again the regions that reported highest percentatage of Overweight and Obese would have the highest average BMI"
   ]
  },
  {
   "cell_type": "markdown",
   "metadata": {},
   "source": [
    "# Percentage of Smokers\n",
    "\n",
    "The next variable we will examine is the percentage of respondants from each region who identified as smokers and see if there is any correlation "
   ]
  },
  {
   "cell_type": "code",
   "execution_count": 59,
   "metadata": {},
   "outputs": [
    {
     "name": "stdout",
     "output_type": "stream",
     "text": [
      "The Percentage of smokers in Southeast: 25.0%\n",
      "The Percentage of smokers in Northeast: 20.68%\n",
      "The Percentage of smokers in Northwest: 17.85%\n",
      "The Percentage of smokers in Southwest: 17.85%\n"
     ]
    }
   ],
   "source": [
    "se_smoker=se_data[se_data['smoker']=='yes']\n",
    "ne_smoker=ne_data[ne_data['smoker']=='yes']\n",
    "nw_smoker=nw_data[nw_data['smoker']=='yes']\n",
    "sw_smoker=sw_data[sw_data['smoker']=='yes']\n",
    "\n",
    "se_smoke_percent=len(se_smoker)/len(se_data)*100\n",
    "ne_smoke_percent=len(ne_smoker)/len(ne_data)*100\n",
    "nw_smoke_percent=len(nw_smoker)/len(nw_data)*100\n",
    "sw_smoke_percent=len(sw_smoker)/len(sw_data)*100\n",
    "\n",
    "print(\"The Percentage of smokers in Southeast: \" +str(round(se_smoke_percent,2))+\"%\")\n",
    "print(\"The Percentage of smokers in Northeast: \" +str(round(ne_smoke_percent,2))+\"%\")\n",
    "print(\"The Percentage of smokers in Northwest: \" +str(round(nw_smoke_percent,2))+\"%\")\n",
    "print(\"The Percentage of smokers in Southwest: \" +str(round(sw_smoke_percent,2))+\"%\")"
   ]
  },
  {
   "cell_type": "markdown",
   "metadata": {},
   "source": [
    "With this analysis we see the top 2 regions for smokers the same as the top 2 for Insurance Costs. "
   ]
  },
  {
   "cell_type": "markdown",
   "metadata": {},
   "source": [
    "# Age as a factor\n",
    "\n",
    "Next variable to explore is Age, what is the average age in the total group and see how the different regions compare"
   ]
  },
  {
   "cell_type": "code",
   "execution_count": 60,
   "metadata": {},
   "outputs": [
    {
     "name": "stdout",
     "output_type": "stream",
     "text": [
      "The average age for the total sample is: 39.21 years old.\n"
     ]
    }
   ],
   "source": [
    "mean_age=ins_data['age'].mean()\n",
    "print(\"The average age for the total sample is: \" +str(round(mean_age, 2))+\" years old.\")"
   ]
  },
  {
   "cell_type": "markdown",
   "metadata": {},
   "source": [
    "Next let us look into how each region compares when we examine age"
   ]
  },
  {
   "cell_type": "code",
   "execution_count": 61,
   "metadata": {},
   "outputs": [
    {
     "name": "stdout",
     "output_type": "stream",
     "text": [
      "The average age for the Southeast Sample is 38.94 years old.\n",
      "The average age for the Northeast Sample is 39.27 years old.\n",
      "The average age for the Northwest Sample is 39.2 years old.\n",
      "The average age for the Southwest Sample is 39.46 years old.\n"
     ]
    }
   ],
   "source": [
    "se_mean_age=se_data['age'].mean()\n",
    "ne_mean_age=ne_data['age'].mean()\n",
    "nw_mean_age=nw_data['age'].mean()\n",
    "sw_mean_age=sw_data['age'].mean()\n",
    "\n",
    "print(\"The average age for the Southeast Sample is \"+ str(round(se_mean_age, 2))+\" years old.\")\n",
    "print(\"The average age for the Northeast Sample is \"+ str(round(ne_mean_age, 2))+\" years old.\")\n",
    "print(\"The average age for the Northwest Sample is \"+ str(round(nw_mean_age, 2))+\" years old.\")\n",
    "print(\"The average age for the Southwest Sample is \"+ str(round(sw_mean_age, 2))+\" years old.\")"
   ]
  },
  {
   "cell_type": "markdown",
   "metadata": {},
   "source": [
    "In this we see that all 4 regions track close to the total sample average with the Southwest coming in with the highest average age and the Southeast was the lowest average age. \n",
    "\n"
   ]
  },
  {
   "cell_type": "markdown",
   "metadata": {},
   "source": [
    "# Children as a factor\n",
    "\n",
    "This variable has a couple different components, first, how many people total in each region have vs not having children then we can look at, those that had children, what was the average number of children by region."
   ]
  },
  {
   "cell_type": "code",
   "execution_count": 62,
   "metadata": {},
   "outputs": [
    {
     "name": "stdout",
     "output_type": "stream",
     "text": [
      "In the total sample the percentage of sample that have no children is: 42.9%\n"
     ]
    }
   ],
   "source": [
    "total_no_children=ins_data[ins_data['children']==0]\n",
    "total_childless_percent=len(total_no_children)/len(ins_data)*100\n",
    "print(\"In the total sample the percentage of sample that have no children is: \"+ str(round(total_childless_percent, 2))+\"%\")"
   ]
  },
  {
   "cell_type": "code",
   "execution_count": 63,
   "metadata": {},
   "outputs": [
    {
     "name": "stdout",
     "output_type": "stream",
     "text": [
      "In the total sample, those who had children had an average of 1.92 children.\n"
     ]
    }
   ],
   "source": [
    "total_with_children=ins_data[ins_data['children']>0]\n",
    "average_children=total_with_children['children'].mean()\n",
    "print(\"In the total sample, those who had children had an average of \"+str(round(average_children, 2))+\" children.\")"
   ]
  },
  {
   "cell_type": "markdown",
   "metadata": {},
   "source": [
    "Now let us see how  the regional data compares"
   ]
  },
  {
   "cell_type": "code",
   "execution_count": 66,
   "metadata": {},
   "outputs": [
    {
     "name": "stdout",
     "output_type": "stream",
     "text": [
      "In the Southeast the percentage of sample that is childless is: 43.13%\n",
      "In the Northeast the percentage of sample that is childless is: 45.37%\n",
      "In the Northwest the percentage of sample that is childless is: 40.62%\n",
      "In the Southwest the percentage of sample that is childless is: 42.46%\n"
     ]
    }
   ],
   "source": [
    "se_no_child=se_data[se_data['children']==0]\n",
    "ne_no_child=ne_data[ne_data['children']==0]\n",
    "nw_no_child=nw_data[nw_data['children']==0]\n",
    "sw_no_child=sw_data[sw_data['children']==0]\n",
    "\n",
    "se_none_percent=len(se_no_child)/len(se_data)*100\n",
    "ne_none_percent=len(ne_no_child)/len(ne_data)*100\n",
    "nw_none_percent=len(nw_no_child)/len(nw_data)*100\n",
    "sw_none_percent=len(sw_no_child)/len(sw_data)*100\n",
    "\n",
    "print(\"In the Southeast the percentage of sample that is childless is: \"+str(round(se_none_percent, 2))+\"%\")\n",
    "print(\"In the Northeast the percentage of sample that is childless is: \"+str(round(ne_none_percent, 2))+\"%\")\n",
    "print(\"In the Northwest the percentage of sample that is childless is: \"+str(round(nw_none_percent, 2))+\"%\")\n",
    "print(\"In the Southwest the percentage of sample that is childless is: \"+str(round(sw_none_percent, 2))+\"%\")"
   ]
  },
  {
   "cell_type": "markdown",
   "metadata": {},
   "source": [
    "When compared to to the sample as a total the data distribution is within margins with the eastern half having more children than the western half.  Now to see those that did have children, how many did they have on average.\n"
   ]
  },
  {
   "cell_type": "code",
   "execution_count": 68,
   "metadata": {},
   "outputs": [
    {
     "name": "stdout",
     "output_type": "stream",
     "text": [
      "In the Southeast those in the sample that had children had an average of 1.85 children\n",
      "In the Northeast those in the sample that had children had an average of 1.92 children\n",
      "In the Northwest those in the sample that had children had an average of 1.93 children\n",
      "In the Southwest those in the sample that had children had an average of 1.98 children\n"
     ]
    }
   ],
   "source": [
    "se_with=se_data[se_data['children']>0]\n",
    "ne_with=ne_data[ne_data['children']>0]\n",
    "nw_with=nw_data[nw_data['children']>0]\n",
    "sw_with=sw_data[sw_data['children']>0]\n",
    "\n",
    "se_average_child=se_with['children'].mean()\n",
    "ne_average_child=ne_with['children'].mean()\n",
    "nw_average_child=nw_with['children'].mean()\n",
    "sw_average_child=sw_with['children'].mean()\n",
    "\n",
    "print(\"In the Southeast those in the sample that had children had an average of \"+str(round(se_average_child, 2))+\" children\")\n",
    "print(\"In the Northeast those in the sample that had children had an average of \"+str(round(ne_average_child, 2))+\" children\")\n",
    "print(\"In the Northwest those in the sample that had children had an average of \"+str(round(nw_average_child, 2))+\" children\")\n",
    "print(\"In the Southwest those in the sample that had children had an average of \"+str(round(sw_average_child, 2))+\" children\")"
   ]
  },
  {
   "cell_type": "code",
   "execution_count": null,
   "metadata": {},
   "outputs": [],
   "source": []
  }
 ],
 "metadata": {
  "kernelspec": {
   "display_name": "Python 3 (ipykernel)",
   "language": "python",
   "name": "python3"
  },
  "language_info": {
   "codemirror_mode": {
    "name": "ipython",
    "version": 3
   },
   "file_extension": ".py",
   "mimetype": "text/x-python",
   "name": "python",
   "nbconvert_exporter": "python",
   "pygments_lexer": "ipython3",
   "version": "3.8.8"
  }
 },
 "nbformat": 4,
 "nbformat_minor": 4
}
